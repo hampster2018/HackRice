{
 "cells": [
  {
   "cell_type": "code",
   "execution_count": 1,
   "metadata": {},
   "outputs": [],
   "source": [
    "import openai\n",
    "import json"
   ]
  },
  {
   "cell_type": "code",
   "execution_count": 2,
   "metadata": {},
   "outputs": [],
   "source": [
    "with open(\"secrets.json\", \"r\") as f:\n",
    "    secrets = json.load(f)[\"key\"]\n",
    "    openai.api_key = secrets"
   ]
  },
  {
   "cell_type": "code",
   "execution_count": 3,
   "metadata": {},
   "outputs": [],
   "source": [
    "model = \"gpt-3.5-turbo\""
   ]
  },
  {
   "cell_type": "code",
   "execution_count": 13,
   "metadata": {},
   "outputs": [],
   "source": [
    "transcription = \"\"\"\n",
    "I want to pick up my prescription, do my laundry, and get some groceries from the grocery store.\n",
    "\"\"\"\n",
    "\n",
    "messages = [\n",
    "    {\"role\": \"system\", \"content\": \"You are a climate-conscious schedule planner. Your client will give you a list of tasks to complete in a day. Given their schedule, advise them on how to reduce their carbon footprint by changing their schedule. Specifically, you should advise them on things such as combining trips, doing things earlier in the morning to avoid peak hours. Focus on the schedule and not the tasks. Give a concise summary of the optimizations.\"},\n",
    "    {\"role\": \"user\", \"content\": \"Please list only the order in which I should do the tasks in bullet point form. Here are my tasks: \" + str(transcription)},\n",
    "]\n",
    "\n",
    "functions = [\n",
    "{\n",
    "    \"name\": \"generate_schedule\",\n",
    "    \"description\": \"This function will generate a schedule for the user to view and follow.\",\n",
    "    \"parameters\": {\n",
    "        \"type\": \"object\",\n",
    "        \"properties\": {\n",
    "            \"events\": {\n",
    "                \"type\": \"array\",\n",
    "                \"description\": \"The list of events to be scheduled. Do not format.\",\n",
    "                \"items\": {\n",
    "                \"type\": \"object\",\n",
    "                \"properties\": {\n",
    "                        \"name_of_event\": {\n",
    "                            \"type\": \"string\",\n",
    "                            \"description\": \"The name of the event.\",\n",
    "                        },\n",
    "\n",
    "                        \"description_of_event\": {\n",
    "                            \"type\": \"string\",\n",
    "                            \"description\": \"The description of the event.\",\n",
    "                        },\n",
    "\n",
    "                        \"military_time_interval_of_event\": {\n",
    "                            \"type\": \"string\",\n",
    "                            \"description\": \"The time of the event in military time such as 20:00-21:00. Do not put AM or PM.\",\n",
    "                        },\n",
    "\n",
    "                        \"carbon_points\": {\n",
    "                            \"type\": \"number\",\n",
    "                            \"description\": \"Points that determine how much carbon is emitted by the event. The higher the points, the more carbon is emitted.\",\n",
    "                        },\n",
    "                    }\n",
    "                },\n",
    "            },\n",
    "        },\n",
    "    },\n",
    "}\n",
    "]\n",
    "\n",
    "function_call = {\n",
    "    \"name\": \"generate_schedule\",\n",
    "}\n"
   ]
  },
  {
   "cell_type": "code",
   "execution_count": 14,
   "metadata": {},
   "outputs": [
    {
     "name": "stdout",
     "output_type": "stream",
     "text": [
      "{\n",
      "  \"id\": \"chatcmpl-827nzxmYWLkh9nEOWveCDSWliYZTw\",\n",
      "  \"object\": \"chat.completion\",\n",
      "  \"created\": 1695517351,\n",
      "  \"model\": \"gpt-3.5-turbo-0613\",\n",
      "  \"choices\": [\n",
      "    {\n",
      "      \"index\": 0,\n",
      "      \"message\": {\n",
      "        \"role\": \"assistant\",\n",
      "        \"content\": \"- Combine picking up prescription, doing laundry, and getting groceries into one trip to minimize travel.\\n- Consider doing these tasks early in the morning or during off-peak hours to avoid the rush and save time.\"\n",
      "      },\n",
      "      \"finish_reason\": \"stop\"\n",
      "    }\n",
      "  ],\n",
      "  \"usage\": {\n",
      "    \"prompt_tokens\": 137,\n",
      "    \"completion_tokens\": 42,\n",
      "    \"total_tokens\": 179\n",
      "  }\n",
      "}\n"
     ]
    }
   ],
   "source": [
    "completion = openai.ChatCompletion.create(\n",
    "    model=model,\n",
    "    messages=messages,\n",
    ")\n",
    "\n",
    "print(completion)"
   ]
  },
  {
   "cell_type": "code",
   "execution_count": 16,
   "metadata": {},
   "outputs": [
    {
     "name": "stdout",
     "output_type": "stream",
     "text": [
      "{\n",
      "  \"id\": \"chatcmpl-827qMqMRVZn5YJTUY5d1NdVZtgkIt\",\n",
      "  \"object\": \"chat.completion\",\n",
      "  \"created\": 1695517498,\n",
      "  \"model\": \"gpt-3.5-turbo-0613\",\n",
      "  \"choices\": [\n",
      "    {\n",
      "      \"index\": 0,\n",
      "      \"message\": {\n",
      "        \"role\": \"assistant\",\n",
      "        \"content\": null,\n",
      "        \"function_call\": {\n",
      "          \"name\": \"generate_schedule\",\n",
      "          \"arguments\": \"{\\n  \\\"events\\\": [\\n    {\\n      \\\"name_of_event\\\": \\\"Picking up prescription\\\",\\n      \\\"description_of_event\\\": \\\"Go to the pharmacy and pick up prescription.\\\",\\n      \\\"military_time_interval_of_event\\\": \\\"14:00-14:30\\\",\\n      \\\"carbon_footprint_reduction_by_scheduling\\\": \\\"0 kg CO2\\\"\\n    },\\n    {\\n      \\\"name_of_event\\\": \\\"Doing laundry\\\",\\n      \\\"description_of_event\\\": \\\"Wash and dry clothes.\\\",\\n      \\\"military_time_interval_of_event\\\": \\\"15:00-16:30\\\",\\n      \\\"carbon_footprint_reduction_by_scheduling\\\": \\\"0.5 kg CO2\\\"\\n    },\\n    {\\n      \\\"name_of_event\\\": \\\"Getting groceries\\\",\\n      \\\"description_of_event\\\": \\\"Go to the grocery store and buy groceries.\\\",\\n      \\\"military_time_interval_of_event\\\": \\\"17:00-17:30\\\",\\n      \\\"carbon_footprint_reduction_by_scheduling\\\": \\\"0.2 kg CO2\\\"\\n    }\\n  ]\\n}\"\n",
      "        }\n",
      "      },\n",
      "      \"finish_reason\": \"stop\"\n",
      "    }\n",
      "  ],\n",
      "  \"usage\": {\n",
      "    \"prompt_tokens\": 216,\n",
      "    \"completion_tokens\": 204,\n",
      "    \"total_tokens\": 420\n",
      "  }\n",
      "}\n"
     ]
    }
   ],
   "source": [
    "messages = [\n",
    "    {\"role\": \"system\", \"content\": \"You are a schedule planner. Given a schedule, follow the instructions of the schedule and output a final set of tasks.\"},\n",
    "    {\"role\": \"user\", \"content\": 'Please take this schedule and output a list of events: \"\"\"' + str(completion.choices[0].message) + '\"\"\"'},\n",
    "]\n",
    "\n",
    "completion = openai.ChatCompletion.create(\n",
    "    model=model,\n",
    "    messages=messages,\n",
    "    functions=functions,\n",
    "\tfunction_call=function_call,\n",
    ")\n",
    "\n",
    "print(completion)"
   ]
  },
  {
   "cell_type": "code",
   "execution_count": null,
   "metadata": {},
   "outputs": [],
   "source": [
    "event_list = json.loads(completion.choices[0].message.function_call.arguments)['events']\n",
    "\n",
    "print(f'The transcription \"\"\"{transcription}\"\"\" returns: \\n\\n')\n",
    "\n",
    "for event in event_list:\n",
    "\tprint(f\"The name of the event is {event['name_of_event']}\")\n",
    "\tprint(f\"The description of the event is {event['description_of_event']}\")\n",
    "\tprint(f\"The military time interval of the event is {event['military_time_interval_of_event']}\")\n",
    "\tprint()"
   ]
  },
  {
   "cell_type": "code",
   "execution_count": null,
   "metadata": {},
   "outputs": [],
   "source": [
    "\n",
    "# change the messages to feed the schedule back into the system and let ChatGPT generate a more optimal schedule\n",
    "messages = [\n",
    "    {\"role\": \"system\", \"content\": f\"The user has the following schedule:\\n\\n{json.dumps(event_list, indent=4)}. Rewrite the user's schedule to lower the carbon footprint. Change the order of the events to accomplish this. Do not leave the ordering the same.\"},\n",
    "]\n",
    "\n"
   ]
  },
  {
   "cell_type": "code",
   "execution_count": null,
   "metadata": {},
   "outputs": [],
   "source": [
    "\n",
    "completion = openai.ChatCompletion.create(\n",
    "    model=model,\n",
    "    messages=messages,\n",
    "    functions=functions,\n",
    "\tfunction_call=function_call\n",
    ")\n",
    "\n",
    "print(completion)"
   ]
  },
  {
   "cell_type": "code",
   "execution_count": null,
   "metadata": {},
   "outputs": [],
   "source": [
    "event_list = json.loads(completion.choices[0].message.function_call.arguments)['events']\n",
    "\n",
    "print(f'The transcription \"\"\"{transcription}\"\"\" returns: \\n\\n')\n",
    "\n",
    "for event in event_list:\n",
    "\tprint(f\"The name of the event is {event['name_of_event']}\")\n",
    "\tprint(f\"The description of the event is {event['description_of_event']}\")\n",
    "\tprint(f\"The military time interval of the event is {event['military_time_interval_of_event']}\")\n",
    "\tprint()"
   ]
  }
 ],
 "metadata": {
  "kernelspec": {
   "display_name": ".venv",
   "language": "python",
   "name": "python3"
  },
  "language_info": {
   "codemirror_mode": {
    "name": "ipython",
    "version": 3
   },
   "file_extension": ".py",
   "mimetype": "text/x-python",
   "name": "python",
   "nbconvert_exporter": "python",
   "pygments_lexer": "ipython3",
   "version": "3.11.4"
  },
  "orig_nbformat": 4
 },
 "nbformat": 4,
 "nbformat_minor": 2
}
