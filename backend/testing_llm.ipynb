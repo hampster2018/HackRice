{
 "cells": [
  {
   "cell_type": "code",
   "execution_count": null,
   "metadata": {},
   "outputs": [],
   "source": [
    "import openai\n",
    "import json"
   ]
  },
  {
   "cell_type": "code",
   "execution_count": null,
   "metadata": {},
   "outputs": [],
   "source": [
    "with open(\"secrets.json\", \"r\") as f:\n",
    "    secrets = json.load(f)[\"key\"]\n",
    "    openai.api_key = secrets"
   ]
  },
  {
   "cell_type": "code",
   "execution_count": null,
   "metadata": {},
   "outputs": [],
   "source": [
    "model = \"gpt-3.5-turbo\""
   ]
  },
  {
   "cell_type": "code",
   "execution_count": null,
   "metadata": {},
   "outputs": [],
   "source": [
    "transcription = \"\"\"\n",
    "I want to pick up my prescription, do my laundry, and get some groceries from the grocery store.\n",
    "\"\"\"\n",
    "\n",
    "messages = [\n",
    "    {\"role\": \"system\", \"content\": \"You are a climate-conscious schedule planner. Your client will give you a list of tasks to complete in a day. Output a schedule.\"},\n",
    "    {\"role\": \"user\", \"content\": transcription},\n",
    "]\n",
    "\n",
    "functions = [\n",
    "{\n",
    "    \"name\": \"generate_schedule\",\n",
    "    \"description\": \"This function will generate a schedule for the user to view and follow.\",\n",
    "    \"parameters\": {\n",
    "        \"type\": \"object\",\n",
    "        \"properties\": {\n",
    "            \"events\": {\n",
    "                \"type\": \"array\",\n",
    "                \"description\": \"The list of events to be scheduled. Do not format.\",\n",
    "                \"items\": {\n",
    "                \"type\": \"object\",\n",
    "                \"properties\": {\n",
    "                        \"name_of_event\": {\n",
    "                            \"type\": \"string\",\n",
    "                            \"description\": \"The name of the event.\",\n",
    "                        },\n",
    "\n",
    "                        \"description_of_event\": {\n",
    "                            \"type\": \"string\",\n",
    "                            \"description\": \"The description of the event.\",\n",
    "                        },\n",
    "\n",
    "                        \"military_time_interval_of_event\": {\n",
    "                            \"type\": \"string\",\n",
    "                            \"description\": \"The time of the event in military time such as 20:00-21:00. Do not put AM or PM.\",\n",
    "                        },\n",
    "\n",
    "                        \"carbon_footprint_reduction_by_scheduling\": {\n",
    "                            \"type\": \"string\",\n",
    "                            \"description\": \"How the schedule reduces the carbon footprint.\",\n",
    "                        },\n",
    "                    }\n",
    "                },\n",
    "            },\n",
    "        },\n",
    "    },\n",
    "}\n",
    "]\n",
    "\n",
    "function_call = {\n",
    "    \"name\": \"generate_schedule\",\n",
    "}\n"
   ]
  },
  {
   "cell_type": "code",
   "execution_count": null,
   "metadata": {},
   "outputs": [],
   "source": [
    "completion = openai.ChatCompletion.create(\n",
    "    model=model,\n",
    "    messages=messages,\n",
    "    functions=functions,\n",
    "\tfunction_call=function_call\n",
    ")\n",
    "\n",
    "print(completion)"
   ]
  },
  {
   "cell_type": "code",
   "execution_count": null,
   "metadata": {},
   "outputs": [],
   "source": [
    "event_list = json.loads(completion.choices[0].message.function_call.arguments)['events']\n",
    "\n",
    "print(f'The transcription \"\"\"{transcription}\"\"\" returns: \\n\\n')\n",
    "\n",
    "for event in event_list:\n",
    "\tprint(f\"The name of the event is {event['name_of_event']}\")\n",
    "\tprint(f\"The description of the event is {event['description_of_event']}\")\n",
    "\tprint(f\"The military time interval of the event is {event['military_time_interval_of_event']}\")\n",
    "\tprint()"
   ]
  },
  {
   "cell_type": "code",
   "execution_count": null,
   "metadata": {},
   "outputs": [],
   "source": [
    "\n",
    "# change the messages to feed the schedule back into the system and let ChatGPT generate a more optimal schedule\n",
    "messages = [\n",
    "    {\"role\": \"system\", \"content\": f\"The user has the following schedule:\\n\\n{json.dumps(event_list, indent=4)}. Rewrite the user's schedule to lower the carbon footprint. Change the order of the events to accomplish this. Do not leave the ordering the same.\"},\n",
    "]\n",
    "\n"
   ]
  },
  {
   "cell_type": "code",
   "execution_count": null,
   "metadata": {},
   "outputs": [],
   "source": [
    "\n",
    "completion = openai.ChatCompletion.create(\n",
    "    model=model,\n",
    "    messages=messages,\n",
    "    functions=functions,\n",
    "\tfunction_call=function_call\n",
    ")\n",
    "\n",
    "print(completion)"
   ]
  },
  {
   "cell_type": "code",
   "execution_count": null,
   "metadata": {},
   "outputs": [],
   "source": [
    "event_list = json.loads(completion.choices[0].message.function_call.arguments)['events']\n",
    "\n",
    "print(f'The transcription \"\"\"{transcription}\"\"\" returns: \\n\\n')\n",
    "\n",
    "for event in event_list:\n",
    "\tprint(f\"The name of the event is {event['name_of_event']}\")\n",
    "\tprint(f\"The description of the event is {event['description_of_event']}\")\n",
    "\tprint(f\"The military time interval of the event is {event['military_time_interval_of_event']}\")\n",
    "\tprint()"
   ]
  }
 ],
 "metadata": {
  "kernelspec": {
   "display_name": ".venv",
   "language": "python",
   "name": "python3"
  },
  "language_info": {
   "codemirror_mode": {
    "name": "ipython",
    "version": 3
   },
   "file_extension": ".py",
   "mimetype": "text/x-python",
   "name": "python",
   "nbconvert_exporter": "python",
   "pygments_lexer": "ipython3",
   "version": "3.11.4"
  },
  "orig_nbformat": 4
 },
 "nbformat": 4,
 "nbformat_minor": 2
}
